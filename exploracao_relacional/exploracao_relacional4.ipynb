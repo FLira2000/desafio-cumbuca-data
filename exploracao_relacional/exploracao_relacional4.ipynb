{
 "cells": [
  {
   "cell_type": "code",
   "execution_count": 1,
   "id": "ffbf2172-b465-43a0-be5a-524edf3ecd29",
   "metadata": {
    "tags": []
   },
   "outputs": [],
   "source": [
    "from nycflights13 import flights"
   ]
  },
  {
   "cell_type": "code",
   "execution_count": 2,
   "id": "d571f1be-5bdc-4ff9-9c8f-c4fb4f095831",
   "metadata": {
    "tags": []
   },
   "outputs": [],
   "source": [
    "import pandas as pd"
   ]
  },
  {
   "cell_type": "code",
   "execution_count": 4,
   "id": "e6217256-0e17-4e69-b95e-ab5b87489489",
   "metadata": {
    "tags": []
   },
   "outputs": [],
   "source": [
    "from nycflights13 import planes"
   ]
  },
  {
   "cell_type": "code",
   "execution_count": 3,
   "id": "3261626c-9e13-4d18-be71-f626e7d84fa8",
   "metadata": {
    "tags": []
   },
   "outputs": [],
   "source": [
    "flights_df = pd.DataFrame(flights)"
   ]
  },
  {
   "cell_type": "code",
   "execution_count": 5,
   "id": "3c371eb2-4000-46f5-b85d-2739f821bec8",
   "metadata": {
    "tags": []
   },
   "outputs": [],
   "source": [
    "planes_df = pd.DataFrame(planes)"
   ]
  },
  {
   "cell_type": "code",
   "execution_count": 6,
   "id": "4d29ee82-76a2-4f64-8546-12d4620c417f",
   "metadata": {
    "tags": []
   },
   "outputs": [],
   "source": [
    "flights_planes_df = pd.merge(flights_df[['tailnum', 'carrier', 'flight']], planes_df[['tailnum', 'manufacturer', 'model']], how='inner')"
   ]
  },
  {
   "cell_type": "code",
   "execution_count": 7,
   "id": "86910939-5078-4f13-9414-dee30a00aebb",
   "metadata": {
    "tags": []
   },
   "outputs": [
    {
     "data": {
      "text/html": [
       "<div>\n",
       "<style scoped>\n",
       "    .dataframe tbody tr th:only-of-type {\n",
       "        vertical-align: middle;\n",
       "    }\n",
       "\n",
       "    .dataframe tbody tr th {\n",
       "        vertical-align: top;\n",
       "    }\n",
       "\n",
       "    .dataframe thead th {\n",
       "        text-align: right;\n",
       "    }\n",
       "</style>\n",
       "<table border=\"1\" class=\"dataframe\">\n",
       "  <thead>\n",
       "    <tr style=\"text-align: right;\">\n",
       "      <th></th>\n",
       "      <th>tailnum</th>\n",
       "      <th>carrier</th>\n",
       "      <th>flight</th>\n",
       "      <th>manufacturer</th>\n",
       "      <th>model</th>\n",
       "    </tr>\n",
       "  </thead>\n",
       "  <tbody>\n",
       "    <tr>\n",
       "      <th>0</th>\n",
       "      <td>N14228</td>\n",
       "      <td>UA</td>\n",
       "      <td>1545</td>\n",
       "      <td>BOEING</td>\n",
       "      <td>737-824</td>\n",
       "    </tr>\n",
       "    <tr>\n",
       "      <th>1</th>\n",
       "      <td>N14228</td>\n",
       "      <td>UA</td>\n",
       "      <td>1579</td>\n",
       "      <td>BOEING</td>\n",
       "      <td>737-824</td>\n",
       "    </tr>\n",
       "    <tr>\n",
       "      <th>2</th>\n",
       "      <td>N14228</td>\n",
       "      <td>UA</td>\n",
       "      <td>1142</td>\n",
       "      <td>BOEING</td>\n",
       "      <td>737-824</td>\n",
       "    </tr>\n",
       "    <tr>\n",
       "      <th>3</th>\n",
       "      <td>N14228</td>\n",
       "      <td>UA</td>\n",
       "      <td>1707</td>\n",
       "      <td>BOEING</td>\n",
       "      <td>737-824</td>\n",
       "    </tr>\n",
       "    <tr>\n",
       "      <th>4</th>\n",
       "      <td>N14228</td>\n",
       "      <td>UA</td>\n",
       "      <td>1572</td>\n",
       "      <td>BOEING</td>\n",
       "      <td>737-824</td>\n",
       "    </tr>\n",
       "    <tr>\n",
       "      <th>...</th>\n",
       "      <td>...</td>\n",
       "      <td>...</td>\n",
       "      <td>...</td>\n",
       "      <td>...</td>\n",
       "      <td>...</td>\n",
       "    </tr>\n",
       "    <tr>\n",
       "      <th>284165</th>\n",
       "      <td>N766SK</td>\n",
       "      <td>OO</td>\n",
       "      <td>5568</td>\n",
       "      <td>BOMBARDIER INC</td>\n",
       "      <td>CL-600-2C10</td>\n",
       "    </tr>\n",
       "    <tr>\n",
       "      <th>284166</th>\n",
       "      <td>N772SK</td>\n",
       "      <td>OO</td>\n",
       "      <td>5568</td>\n",
       "      <td>BOMBARDIER INC</td>\n",
       "      <td>CL-600-2C10</td>\n",
       "    </tr>\n",
       "    <tr>\n",
       "      <th>284167</th>\n",
       "      <td>N776SK</td>\n",
       "      <td>OO</td>\n",
       "      <td>5568</td>\n",
       "      <td>BOMBARDIER INC</td>\n",
       "      <td>CL-600-2C10</td>\n",
       "    </tr>\n",
       "    <tr>\n",
       "      <th>284168</th>\n",
       "      <td>N785SK</td>\n",
       "      <td>OO</td>\n",
       "      <td>5568</td>\n",
       "      <td>BOMBARDIER INC</td>\n",
       "      <td>CL-600-2C10</td>\n",
       "    </tr>\n",
       "    <tr>\n",
       "      <th>284169</th>\n",
       "      <td>N557AS</td>\n",
       "      <td>AS</td>\n",
       "      <td>15</td>\n",
       "      <td>BOEING</td>\n",
       "      <td>737-890</td>\n",
       "    </tr>\n",
       "  </tbody>\n",
       "</table>\n",
       "<p>284170 rows × 5 columns</p>\n",
       "</div>"
      ],
      "text/plain": [
       "       tailnum carrier  flight    manufacturer        model\n",
       "0       N14228      UA    1545          BOEING      737-824\n",
       "1       N14228      UA    1579          BOEING      737-824\n",
       "2       N14228      UA    1142          BOEING      737-824\n",
       "3       N14228      UA    1707          BOEING      737-824\n",
       "4       N14228      UA    1572          BOEING      737-824\n",
       "...        ...     ...     ...             ...          ...\n",
       "284165  N766SK      OO    5568  BOMBARDIER INC  CL-600-2C10\n",
       "284166  N772SK      OO    5568  BOMBARDIER INC  CL-600-2C10\n",
       "284167  N776SK      OO    5568  BOMBARDIER INC  CL-600-2C10\n",
       "284168  N785SK      OO    5568  BOMBARDIER INC  CL-600-2C10\n",
       "284169  N557AS      AS      15          BOEING      737-890\n",
       "\n",
       "[284170 rows x 5 columns]"
      ]
     },
     "execution_count": 7,
     "metadata": {},
     "output_type": "execute_result"
    }
   ],
   "source": [
    "flights_planes_df"
   ]
  },
  {
   "cell_type": "code",
   "execution_count": 25,
   "id": "3a4ea188-4d27-4ec9-b75a-369743bb37ed",
   "metadata": {
    "tags": []
   },
   "outputs": [
    {
     "data": {
      "text/html": [
       "<div>\n",
       "<style scoped>\n",
       "    .dataframe tbody tr th:only-of-type {\n",
       "        vertical-align: middle;\n",
       "    }\n",
       "\n",
       "    .dataframe tbody tr th {\n",
       "        vertical-align: top;\n",
       "    }\n",
       "\n",
       "    .dataframe thead th {\n",
       "        text-align: right;\n",
       "    }\n",
       "</style>\n",
       "<table border=\"1\" class=\"dataframe\">\n",
       "  <thead>\n",
       "    <tr style=\"text-align: right;\">\n",
       "      <th></th>\n",
       "      <th></th>\n",
       "      <th>tailnum</th>\n",
       "      <th>flight</th>\n",
       "      <th>model</th>\n",
       "    </tr>\n",
       "    <tr>\n",
       "      <th>manufacturer</th>\n",
       "      <th>carrier</th>\n",
       "      <th></th>\n",
       "      <th></th>\n",
       "      <th></th>\n",
       "    </tr>\n",
       "  </thead>\n",
       "  <tbody>\n",
       "    <tr>\n",
       "      <th rowspan=\"7\" valign=\"top\">AIRBUS</th>\n",
       "      <th>B6</th>\n",
       "      <td>29596</td>\n",
       "      <td>29596</td>\n",
       "      <td>29596</td>\n",
       "    </tr>\n",
       "    <tr>\n",
       "      <th>DL</th>\n",
       "      <td>5188</td>\n",
       "      <td>5188</td>\n",
       "      <td>5188</td>\n",
       "    </tr>\n",
       "    <tr>\n",
       "      <th>VX</th>\n",
       "      <td>5162</td>\n",
       "      <td>5162</td>\n",
       "      <td>5162</td>\n",
       "    </tr>\n",
       "    <tr>\n",
       "      <th>US</th>\n",
       "      <td>4850</td>\n",
       "      <td>4850</td>\n",
       "      <td>4850</td>\n",
       "    </tr>\n",
       "    <tr>\n",
       "      <th>UA</th>\n",
       "      <td>1638</td>\n",
       "      <td>1638</td>\n",
       "      <td>1638</td>\n",
       "    </tr>\n",
       "    <tr>\n",
       "      <th>F9</th>\n",
       "      <td>526</td>\n",
       "      <td>526</td>\n",
       "      <td>526</td>\n",
       "    </tr>\n",
       "    <tr>\n",
       "      <th>HA</th>\n",
       "      <td>342</td>\n",
       "      <td>342</td>\n",
       "      <td>342</td>\n",
       "    </tr>\n",
       "  </tbody>\n",
       "</table>\n",
       "</div>"
      ],
      "text/plain": [
       "                      tailnum  flight  model\n",
       "manufacturer carrier                        \n",
       "AIRBUS       B6         29596   29596  29596\n",
       "             DL          5188    5188   5188\n",
       "             VX          5162    5162   5162\n",
       "             US          4850    4850   4850\n",
       "             UA          1638    1638   1638\n",
       "             F9           526     526    526\n",
       "             HA           342     342    342"
      ]
     },
     "execution_count": 25,
     "metadata": {},
     "output_type": "execute_result"
    }
   ],
   "source": [
    "flights_planes_df.groupby(['manufacturer', 'carrier']).count().query('manufacturer == \"AIRBUS\"').sort_values('flight', ascending=False)"
   ]
  },
  {
   "cell_type": "code",
   "execution_count": 26,
   "id": "c0f50b1f-3baa-49e5-b8f2-8e004a3b4afa",
   "metadata": {
    "tags": []
   },
   "outputs": [],
   "source": [
    "from nycflights13 import airlines"
   ]
  },
  {
   "cell_type": "code",
   "execution_count": 27,
   "id": "9a46f6a6-fc97-434c-812a-34032a033bcf",
   "metadata": {
    "tags": []
   },
   "outputs": [],
   "source": [
    "airlines_df = pd.DataFrame(airlines)"
   ]
  },
  {
   "cell_type": "code",
   "execution_count": 29,
   "id": "4c3a3f06-6a4f-4a0d-abe2-5aa24b17315e",
   "metadata": {
    "tags": []
   },
   "outputs": [
    {
     "data": {
      "text/html": [
       "<div>\n",
       "<style scoped>\n",
       "    .dataframe tbody tr th:only-of-type {\n",
       "        vertical-align: middle;\n",
       "    }\n",
       "\n",
       "    .dataframe tbody tr th {\n",
       "        vertical-align: top;\n",
       "    }\n",
       "\n",
       "    .dataframe thead th {\n",
       "        text-align: right;\n",
       "    }\n",
       "</style>\n",
       "<table border=\"1\" class=\"dataframe\">\n",
       "  <thead>\n",
       "    <tr style=\"text-align: right;\">\n",
       "      <th></th>\n",
       "      <th>carrier</th>\n",
       "      <th>name</th>\n",
       "    </tr>\n",
       "  </thead>\n",
       "  <tbody>\n",
       "    <tr>\n",
       "      <th>3</th>\n",
       "      <td>B6</td>\n",
       "      <td>JetBlue Airways</td>\n",
       "    </tr>\n",
       "  </tbody>\n",
       "</table>\n",
       "</div>"
      ],
      "text/plain": [
       "  carrier             name\n",
       "3      B6  JetBlue Airways"
      ]
     },
     "execution_count": 29,
     "metadata": {},
     "output_type": "execute_result"
    }
   ],
   "source": [
    "airlines_df.query('carrier == \"B6\"')"
   ]
  },
  {
   "cell_type": "code",
   "execution_count": null,
   "id": "27855681-472e-4acc-8286-061fa8e9bc06",
   "metadata": {},
   "outputs": [],
   "source": []
  }
 ],
 "metadata": {
  "kernelspec": {
   "display_name": "Python 3 (ipykernel)",
   "language": "python",
   "name": "python3"
  },
  "language_info": {
   "codemirror_mode": {
    "name": "ipython",
    "version": 3
   },
   "file_extension": ".py",
   "mimetype": "text/x-python",
   "name": "python",
   "nbconvert_exporter": "python",
   "pygments_lexer": "ipython3",
   "version": "3.11.2"
  }
 },
 "nbformat": 4,
 "nbformat_minor": 5
}
