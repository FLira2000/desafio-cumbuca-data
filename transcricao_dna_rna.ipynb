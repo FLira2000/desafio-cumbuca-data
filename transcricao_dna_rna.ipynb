{
 "cells": [
  {
   "cell_type": "code",
   "execution_count": 1,
   "id": "f0ef483d-c2f0-4338-825f-abf526710fb0",
   "metadata": {
    "tags": []
   },
   "outputs": [],
   "source": [
    "def transformer(letter):\n",
    "    pattern = {\n",
    "        'G': 'C',\n",
    "        'C': 'G',\n",
    "        'T': 'A',\n",
    "        'A': 'U'\n",
    "    }\n",
    "\n",
    "    if letter not in pattern.keys():\n",
    "        raise Exception('String malformmatted. Check the input string.')\n",
    "    \n",
    "    return pattern[letter]       "
   ]
  },
  {
   "cell_type": "code",
   "execution_count": 2,
   "id": "8b1def0f-76fa-44d1-9d11-99420973a0dd",
   "metadata": {
    "tags": []
   },
   "outputs": [],
   "source": [
    "def perform_transform(input_str):\n",
    "    return ''.join(map(transformer, input_str))"
   ]
  },
  {
   "cell_type": "code",
   "execution_count": 8,
   "id": "2823a076-42bf-4245-bb23-b81f9072d6aa",
   "metadata": {
    "tags": []
   },
   "outputs": [
    {
     "name": "stdout",
     "output_type": "stream",
     "text": [
      "CCGAU\n",
      "CGAU\n",
      "UGACUAU\n"
     ]
    }
   ],
   "source": [
    "print(perform_transform('GGCTA'))\n",
    "print(perform_transform('GCTA'))\n",
    "print(perform_transform('ACTGATA'))"
   ]
  },
  {
   "cell_type": "markdown",
   "id": "496a0c85-cf1d-4d85-845f-01b310a3ed85",
   "metadata": {},
   "source": [
    "## Explicação das funções:\n",
    "\n",
    "    transformer(letra)\n",
    "\n",
    "Esta função recebe uma única string letra e retorna o nucleotídeo de RNA correspondente com base no seguinte dicionário:\n",
    "\n",
    "    {\n",
    "        'G': 'C',\n",
    "        'C': 'G',\n",
    "        'T': 'A',\n",
    "        'A': 'U'\n",
    "    }\n",
    "\n",
    "- letra: Uma string de um único caractere representando um nucleotídeo de DNA ('G', 'C', 'T' ou 'A').\n",
    "Retorna:\n",
    "O nucleotídeo de RNA correspondente ao nucleotídeo de DNA de entrada, de acordo com o dicionário.\n",
    "\n",
    "Exception: Se a letra não for uma chave no dicionário 'pattern'.\n",
    "\n",
    "    perform_transform(input_str)\n",
    "\n",
    "Esta função recebe uma string de nucleotídeos de DNA e retorna a sequência correspondente de RNA, chamando a função transformer para cada caractere na string de entrada.\n",
    "\n",
    "- input_str: Uma string de nucleotídeos de DNA ('G', 'C', 'T' ou 'A').\n",
    "Retorna:\n",
    "Uma string de nucleotídeos de RNA ('C', 'G', 'A' ou 'U').\n",
    "\n",
    "\n",
    "Observação: Este código só lida com strings contendo os caracteres 'G', 'C', 'T' e 'A'. Se a string de entrada contiver qualquer outro caractere, a função transformer lançará uma exceção."
   ]
  }
 ],
 "metadata": {
  "kernelspec": {
   "display_name": "Python 3 (ipykernel)",
   "language": "python",
   "name": "python3"
  },
  "language_info": {
   "codemirror_mode": {
    "name": "ipython",
    "version": 3
   },
   "file_extension": ".py",
   "mimetype": "text/x-python",
   "name": "python",
   "nbconvert_exporter": "python",
   "pygments_lexer": "ipython3",
   "version": "3.11.2"
  }
 },
 "nbformat": 4,
 "nbformat_minor": 5
}
