{
 "cells": [
  {
   "cell_type": "code",
   "execution_count": 1,
   "id": "87bc0953-e12b-4975-9af5-1ff067dcc54a",
   "metadata": {
    "tags": []
   },
   "outputs": [],
   "source": [
    "def kth_moment(data, k, central=False):\n",
    "    n = len(data)\n",
    "    if n == 0:\n",
    "        return None\n",
    "    mean = sum(data) / n\n",
    "    if central:\n",
    "        moment = sum((x - mean) ** k for x in data) / n\n",
    "    else:\n",
    "        moment = sum(x ** k for x in data) / n\n",
    "    return moment"
   ]
  },
  {
   "cell_type": "markdown",
   "id": "aa1261d6-6f68-451a-a760-87f05a0a140d",
   "metadata": {
    "tags": []
   },
   "source": [
    "## Explicação da função:\n",
    "\n",
    "- data: é a lista de dados para a qual desejamos calcular o momento;\n",
    "- k: é a ordem do momento que desejamos calcular;\n",
    "- central: é um argumento booleano que indica se desejamos calcular o momento amostral (quando central=False) ou o momento central (quando central=True);\n",
    "- n: é o tamanho da lista de dados;\n",
    "- mean: é a média amostral dos dados;\n",
    "- moment: é o k-ésimo momento amostral ou central, dependendo do valor de central.\n",
    "\n",
    "Se o argumento 'central' for True, o momento central será calculado usando a fórmula: soma dos valores de (x - mean) ** k para cada x na lista de dados, dividido pelo tamanho da lista de dados. Caso contrário, o momento amostral será calculado usando a fórmula: soma dos valores de x ** k para cada x na lista de dados, dividido pelo tamanho da lista de dados."
   ]
  },
  {
   "cell_type": "code",
   "execution_count": 5,
   "id": "d433fa02-ec92-4002-a750-e1d6cbfc9f02",
   "metadata": {
    "tags": []
   },
   "outputs": [
    {
     "name": "stdout",
     "output_type": "stream",
     "text": [
      "-0.2592592592592598\n",
      "37.833333333333336\n"
     ]
    }
   ],
   "source": [
    "dados = [1, 1, 1, 2, 2, 3, 4, 4, 5, 4, 3, 4]\n",
    "\n",
    "momento_central = kth_moment(dados, 3, central=True)\n",
    "momento_amostral = kth_moment(dados, 3, central=False)\n",
    "\n",
    "print(momento_central)\n",
    "print(momento_amostral)"
   ]
  }
 ],
 "metadata": {
  "kernelspec": {
   "display_name": "Python 3 (ipykernel)",
   "language": "python",
   "name": "python3"
  },
  "language_info": {
   "codemirror_mode": {
    "name": "ipython",
    "version": 3
   },
   "file_extension": ".py",
   "mimetype": "text/x-python",
   "name": "python",
   "nbconvert_exporter": "python",
   "pygments_lexer": "ipython3",
   "version": "3.11.2"
  }
 },
 "nbformat": 4,
 "nbformat_minor": 5
}
